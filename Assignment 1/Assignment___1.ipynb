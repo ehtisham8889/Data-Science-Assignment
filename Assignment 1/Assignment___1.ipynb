{
 "cells": [
  {
   "cell_type": "code",
   "execution_count": 4,
   "metadata": {},
   "outputs": [
    {
     "name": "stdout",
     "output_type": "stream",
     "text": [
      "Twinkle,Twinkle,Little Star, \n",
      "\t How I wonder, What are you!\n",
      " \t \t Up above the world so high,\n",
      " \t \t Like a diamond in the sky,\n",
      "Twinkle,Twinkle,Little star, \n",
      "\t How I wonder, What are you!\n"
     ]
    }
   ],
   "source": [
    "#Question 1\n",
    "\n",
    "print('Twinkle,Twinkle,Little Star, ') \n",
    "print('\\t How I wonder, What are you!')\n",
    "print(' \\t \\t Up above the world so high,')\n",
    "print(' \\t \\t Like a diamond in the sky,')\n",
    "print('Twinkle,Twinkle,Little star, ')\n",
    "print('\\t How I wonder, What are you!')"
   ]
  },
  {
   "cell_type": "code",
   "execution_count": 5,
   "metadata": {},
   "outputs": [
    {
     "name": "stdout",
     "output_type": "stream",
     "text": [
      "3.8.5 (default, Sep  3 2020, 21:29:08) [MSC v.1916 64 bit (AMD64)]\n"
     ]
    }
   ],
   "source": [
    "#Question 2\n",
    "import sys\n",
    "print(sys.version)"
   ]
  },
  {
   "cell_type": "code",
   "execution_count": 7,
   "metadata": {},
   "outputs": [
    {
     "name": "stdout",
     "output_type": "stream",
     "text": [
      "Today date is: 2022-01-01\n"
     ]
    }
   ],
   "source": [
    "#Question 3\n",
    "from datetime import date \n",
    "today = date.today()\n",
    "print(\"Today date is:\", today)"
   ]
  },
  {
   "cell_type": "code",
   "execution_count": 8,
   "metadata": {},
   "outputs": [
    {
     "name": "stdout",
     "output_type": "stream",
     "text": [
      "Enter radius of circle: 1\n",
      "Area of circle = 3.14159\n"
     ]
    }
   ],
   "source": [
    "#Question 4\n",
    "r = float(input(\"Enter radius of circle: \"))\n",
    "a = 3.14159 * r * r\n",
    "print(\"Area of circle =\", a)\n"
   ]
  },
  {
   "cell_type": "code",
   "execution_count": 9,
   "metadata": {},
   "outputs": [
    {
     "name": "stdout",
     "output_type": "stream",
     "text": [
      "Input your First Name : ehtisham\n",
      "Input your Last Name : khan\n",
      "Hello khan ehtisham\n"
     ]
    }
   ],
   "source": [
    "#Question 5\n",
    "firstname = input(\"Input your First Name : \")\n",
    "\n",
    "lastname = input(\"Input your Last Name : \")\n",
    "\n",
    "print (\"Hello \" + lastname + \" \" + firstname)"
   ]
  },
  {
   "cell_type": "code",
   "execution_count": 11,
   "metadata": {},
   "outputs": [
    {
     "name": "stdout",
     "output_type": "stream",
     "text": [
      "Write any number:1\n",
      "Write another number:2\n",
      "The sum of these 2 numbers is:  3\n"
     ]
    }
   ],
   "source": [
    "#question 6\n",
    "sum1 = int(input(\"Write any number:\"))\n",
    "sum2 = int(input(\"Write another number:\"))\n",
    "sum = sum1+sum2\n",
    "print(\"The sum of these 2 numbers is: \",sum)"
   ]
  },
  {
   "cell_type": "code",
   "execution_count": null,
   "metadata": {},
   "outputs": [],
   "source": []
  }
 ],
 "metadata": {
  "kernelspec": {
   "display_name": "Python 3",
   "language": "python",
   "name": "python3"
  },
  "language_info": {
   "codemirror_mode": {
    "name": "ipython",
    "version": 3
   },
   "file_extension": ".py",
   "mimetype": "text/x-python",
   "name": "python",
   "nbconvert_exporter": "python",
   "pygments_lexer": "ipython3",
   "version": "3.8.5"
  }
 },
 "nbformat": 4,
 "nbformat_minor": 4
}
